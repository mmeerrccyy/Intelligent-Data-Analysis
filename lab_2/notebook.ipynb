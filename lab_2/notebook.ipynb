{
 "cells": [
  {
   "cell_type": "code",
   "execution_count": 1,
   "id": "initial_id",
   "metadata": {
    "collapsed": true,
    "ExecuteTime": {
     "end_time": "2024-03-19T19:03:51.547179Z",
     "start_time": "2024-03-19T19:03:46.313545Z"
    }
   },
   "outputs": [
    {
     "name": "stderr",
     "output_type": "stream",
     "text": [
      "/var/folders/wg/3j33zdv17vscn36w6jv121zm0000gn/T/ipykernel_32635/3210637360.py:6: DtypeWarning: Columns (25,51) have mixed types. Specify dtype option on import or set low_memory=False.\n",
      "  df = pd.read_csv(DATA_FILE)\n"
     ]
    },
    {
     "data": {
      "text/plain": "         Date      GameID  Drive  qtr  down   time  TimeUnder  TimeSecs  \\\n0  2009-09-10  2009091000      1    1   NaN  15:00         15    3600.0   \n1  2009-09-10  2009091000      1    1   1.0  14:53         15    3593.0   \n2  2009-09-10  2009091000      1    1   2.0  14:16         15    3556.0   \n3  2009-09-10  2009091000      1    1   3.0  13:35         14    3515.0   \n4  2009-09-10  2009091000      1    1   4.0  13:27         14    3507.0   \n\n   PlayTimeDiff SideofField  ...    yacEPA  Home_WP_pre  Away_WP_pre  \\\n0           0.0         TEN  ...       NaN     0.485675     0.514325   \n1           7.0         PIT  ...  1.146076     0.546433     0.453567   \n2          37.0         PIT  ...       NaN     0.551088     0.448912   \n3          41.0         PIT  ... -5.031425     0.510793     0.489207   \n4           8.0         PIT  ...       NaN     0.461217     0.538783   \n\n   Home_WP_post  Away_WP_post  Win_Prob       WPA    airWPA    yacWPA  Season  \n0      0.546433      0.453567  0.485675  0.060758       NaN       NaN    2009  \n1      0.551088      0.448912  0.546433  0.004655 -0.032244  0.036899    2009  \n2      0.510793      0.489207  0.551088 -0.040295       NaN       NaN    2009  \n3      0.461217      0.538783  0.510793 -0.049576  0.106663 -0.156239    2009  \n4      0.558929      0.441071  0.461217  0.097712       NaN       NaN    2009  \n\n[5 rows x 102 columns]",
      "text/html": "<div>\n<style scoped>\n    .dataframe tbody tr th:only-of-type {\n        vertical-align: middle;\n    }\n\n    .dataframe tbody tr th {\n        vertical-align: top;\n    }\n\n    .dataframe thead th {\n        text-align: right;\n    }\n</style>\n<table border=\"1\" class=\"dataframe\">\n  <thead>\n    <tr style=\"text-align: right;\">\n      <th></th>\n      <th>Date</th>\n      <th>GameID</th>\n      <th>Drive</th>\n      <th>qtr</th>\n      <th>down</th>\n      <th>time</th>\n      <th>TimeUnder</th>\n      <th>TimeSecs</th>\n      <th>PlayTimeDiff</th>\n      <th>SideofField</th>\n      <th>...</th>\n      <th>yacEPA</th>\n      <th>Home_WP_pre</th>\n      <th>Away_WP_pre</th>\n      <th>Home_WP_post</th>\n      <th>Away_WP_post</th>\n      <th>Win_Prob</th>\n      <th>WPA</th>\n      <th>airWPA</th>\n      <th>yacWPA</th>\n      <th>Season</th>\n    </tr>\n  </thead>\n  <tbody>\n    <tr>\n      <th>0</th>\n      <td>2009-09-10</td>\n      <td>2009091000</td>\n      <td>1</td>\n      <td>1</td>\n      <td>NaN</td>\n      <td>15:00</td>\n      <td>15</td>\n      <td>3600.0</td>\n      <td>0.0</td>\n      <td>TEN</td>\n      <td>...</td>\n      <td>NaN</td>\n      <td>0.485675</td>\n      <td>0.514325</td>\n      <td>0.546433</td>\n      <td>0.453567</td>\n      <td>0.485675</td>\n      <td>0.060758</td>\n      <td>NaN</td>\n      <td>NaN</td>\n      <td>2009</td>\n    </tr>\n    <tr>\n      <th>1</th>\n      <td>2009-09-10</td>\n      <td>2009091000</td>\n      <td>1</td>\n      <td>1</td>\n      <td>1.0</td>\n      <td>14:53</td>\n      <td>15</td>\n      <td>3593.0</td>\n      <td>7.0</td>\n      <td>PIT</td>\n      <td>...</td>\n      <td>1.146076</td>\n      <td>0.546433</td>\n      <td>0.453567</td>\n      <td>0.551088</td>\n      <td>0.448912</td>\n      <td>0.546433</td>\n      <td>0.004655</td>\n      <td>-0.032244</td>\n      <td>0.036899</td>\n      <td>2009</td>\n    </tr>\n    <tr>\n      <th>2</th>\n      <td>2009-09-10</td>\n      <td>2009091000</td>\n      <td>1</td>\n      <td>1</td>\n      <td>2.0</td>\n      <td>14:16</td>\n      <td>15</td>\n      <td>3556.0</td>\n      <td>37.0</td>\n      <td>PIT</td>\n      <td>...</td>\n      <td>NaN</td>\n      <td>0.551088</td>\n      <td>0.448912</td>\n      <td>0.510793</td>\n      <td>0.489207</td>\n      <td>0.551088</td>\n      <td>-0.040295</td>\n      <td>NaN</td>\n      <td>NaN</td>\n      <td>2009</td>\n    </tr>\n    <tr>\n      <th>3</th>\n      <td>2009-09-10</td>\n      <td>2009091000</td>\n      <td>1</td>\n      <td>1</td>\n      <td>3.0</td>\n      <td>13:35</td>\n      <td>14</td>\n      <td>3515.0</td>\n      <td>41.0</td>\n      <td>PIT</td>\n      <td>...</td>\n      <td>-5.031425</td>\n      <td>0.510793</td>\n      <td>0.489207</td>\n      <td>0.461217</td>\n      <td>0.538783</td>\n      <td>0.510793</td>\n      <td>-0.049576</td>\n      <td>0.106663</td>\n      <td>-0.156239</td>\n      <td>2009</td>\n    </tr>\n    <tr>\n      <th>4</th>\n      <td>2009-09-10</td>\n      <td>2009091000</td>\n      <td>1</td>\n      <td>1</td>\n      <td>4.0</td>\n      <td>13:27</td>\n      <td>14</td>\n      <td>3507.0</td>\n      <td>8.0</td>\n      <td>PIT</td>\n      <td>...</td>\n      <td>NaN</td>\n      <td>0.461217</td>\n      <td>0.538783</td>\n      <td>0.558929</td>\n      <td>0.441071</td>\n      <td>0.461217</td>\n      <td>0.097712</td>\n      <td>NaN</td>\n      <td>NaN</td>\n      <td>2009</td>\n    </tr>\n  </tbody>\n</table>\n<p>5 rows × 102 columns</p>\n</div>"
     },
     "execution_count": 1,
     "metadata": {},
     "output_type": "execute_result"
    }
   ],
   "source": [
    "import os\n",
    "import pandas as pd\n",
    "\n",
    "# 1. Прочитати засобами python pandas Dataframe дані про спортивні змагання (дані додаються до завдання)\n",
    "DATA_FILE = os.path.join(\"data\", \"NFL Play by Play 2009-2016 (v3).csv\") \n",
    "df = pd.read_csv(DATA_FILE)\n",
    "\n",
    "# 2. Переглянути вибірку з даних\n",
    "df.head()"
   ]
  },
  {
   "cell_type": "code",
   "outputs": [
    {
     "data": {
      "text/plain": "Date             0\nGameID           0\nDrive            0\nqtr              0\ndown         54218\n             ...  \nWin_Prob     21993\nWPA           4817\nairWPA      220738\nyacWPA      220956\nSeason           0\nLength: 102, dtype: int64"
     },
     "execution_count": 2,
     "metadata": {},
     "output_type": "execute_result"
    }
   ],
   "source": [
    "# 3. Підрахувати кількість пропущених значень у кожній колонці\n",
    "\n",
    "df.isnull().sum()"
   ],
   "metadata": {
    "collapsed": false,
    "ExecuteTime": {
     "end_time": "2024-03-19T19:03:52.008397Z",
     "start_time": "2024-03-19T19:03:51.548490Z"
    }
   },
   "id": "a55009bdaebeb671",
   "execution_count": 2
  },
  {
   "cell_type": "code",
   "outputs": [
    {
     "data": {
      "text/plain": "27.652267428200588"
     },
     "execution_count": 3,
     "metadata": {},
     "output_type": "execute_result"
    }
   ],
   "source": [
    "# 4. Підрахувати відносну кількість пропущених значень у всій таблиці\n",
    "\n",
    "(df.isnull().sum().sum() / df.size) * 100"
   ],
   "metadata": {
    "collapsed": false,
    "ExecuteTime": {
     "end_time": "2024-03-19T19:03:52.484530Z",
     "start_time": "2024-03-19T19:03:52.004499Z"
    }
   },
   "id": "c50b8a07d1a5f3ef",
   "execution_count": 3
  },
  {
   "cell_type": "code",
   "outputs": [
    {
     "data": {
      "text/plain": "              Date      GameID  Drive  qtr  down   time  TimeUnder  TimeSecs  \\\n0       2009-09-10  2009091000      1    1   NaN  15:00         15    3600.0   \n1       2009-09-10  2009091000      1    1   1.0  14:53         15    3593.0   \n2       2009-09-10  2009091000      1    1   2.0  14:16         15    3556.0   \n3       2009-09-10  2009091000      1    1   3.0  13:35         14    3515.0   \n4       2009-09-10  2009091000      1    1   4.0  13:27         14    3507.0   \n...            ...         ...    ...  ...   ...    ...        ...       ...   \n362442  2017-01-01  2017010102     20    4   1.0  00:22          1      22.0   \n362443  2017-01-01  2017010102     20    4   NaN  00:13          1      13.0   \n362444  2017-01-01  2017010102     21    4   NaN  00:13          1      13.0   \n362445  2017-01-01  2017010102     21    4   1.0  00:12          1      12.0   \n362446  2017-01-01  2017010102     21    4   NaN  00:00          0       0.0   \n\n        PlayTimeDiff SideofField  ...    yacEPA  Home_WP_pre  Away_WP_pre  \\\n0                0.0         TEN  ...       NaN     0.485675     0.514325   \n1                7.0         PIT  ...  1.146076     0.546433     0.453567   \n2               37.0         PIT  ...       NaN     0.551088     0.448912   \n3               41.0         PIT  ... -5.031425     0.510793     0.489207   \n4                8.0         PIT  ...       NaN     0.461217     0.538783   \n...              ...         ...  ...       ...          ...          ...   \n362442           6.0          GB  ...  0.000000     0.051901     0.948099   \n362443           9.0          GB  ...       NaN     0.093435     0.906565   \n362444           0.0         DET  ...       NaN     0.034069     0.965931   \n362445           1.0         DET  ...       NaN     0.035708     0.964292   \n362446          12.0         DET  ...       NaN     0.000000     1.000000   \n\n        Home_WP_post  Away_WP_post  Win_Prob       WPA    airWPA    yacWPA  \\\n0           0.546433      0.453567  0.485675  0.060758       NaN       NaN   \n1           0.551088      0.448912  0.546433  0.004655 -0.032244  0.036899   \n2           0.510793      0.489207  0.551088 -0.040295       NaN       NaN   \n3           0.461217      0.538783  0.510793 -0.049576  0.106663 -0.156239   \n4           0.558929      0.441071  0.461217  0.097712       NaN       NaN   \n...              ...           ...       ...       ...       ...       ...   \n362442      0.093435      0.906565  0.051901  0.041534  0.041534  0.000000   \n362443      0.034069      0.965931  0.093435 -0.059366       NaN       NaN   \n362444      0.035708      0.964292  0.965931 -0.001639       NaN       NaN   \n362445      0.000000      1.000000  0.964292  0.035708       NaN       NaN   \n362446      0.000000      1.000000  0.934245  0.000000       NaN       NaN   \n\n        Season  \n0         2009  \n1         2009  \n2         2009  \n3         2009  \n4         2009  \n...        ...  \n362442    2016  \n362443    2016  \n362444    2016  \n362445    2016  \n362446    2016  \n\n[362447 rows x 102 columns]",
      "text/html": "<div>\n<style scoped>\n    .dataframe tbody tr th:only-of-type {\n        vertical-align: middle;\n    }\n\n    .dataframe tbody tr th {\n        vertical-align: top;\n    }\n\n    .dataframe thead th {\n        text-align: right;\n    }\n</style>\n<table border=\"1\" class=\"dataframe\">\n  <thead>\n    <tr style=\"text-align: right;\">\n      <th></th>\n      <th>Date</th>\n      <th>GameID</th>\n      <th>Drive</th>\n      <th>qtr</th>\n      <th>down</th>\n      <th>time</th>\n      <th>TimeUnder</th>\n      <th>TimeSecs</th>\n      <th>PlayTimeDiff</th>\n      <th>SideofField</th>\n      <th>...</th>\n      <th>yacEPA</th>\n      <th>Home_WP_pre</th>\n      <th>Away_WP_pre</th>\n      <th>Home_WP_post</th>\n      <th>Away_WP_post</th>\n      <th>Win_Prob</th>\n      <th>WPA</th>\n      <th>airWPA</th>\n      <th>yacWPA</th>\n      <th>Season</th>\n    </tr>\n  </thead>\n  <tbody>\n    <tr>\n      <th>0</th>\n      <td>2009-09-10</td>\n      <td>2009091000</td>\n      <td>1</td>\n      <td>1</td>\n      <td>NaN</td>\n      <td>15:00</td>\n      <td>15</td>\n      <td>3600.0</td>\n      <td>0.0</td>\n      <td>TEN</td>\n      <td>...</td>\n      <td>NaN</td>\n      <td>0.485675</td>\n      <td>0.514325</td>\n      <td>0.546433</td>\n      <td>0.453567</td>\n      <td>0.485675</td>\n      <td>0.060758</td>\n      <td>NaN</td>\n      <td>NaN</td>\n      <td>2009</td>\n    </tr>\n    <tr>\n      <th>1</th>\n      <td>2009-09-10</td>\n      <td>2009091000</td>\n      <td>1</td>\n      <td>1</td>\n      <td>1.0</td>\n      <td>14:53</td>\n      <td>15</td>\n      <td>3593.0</td>\n      <td>7.0</td>\n      <td>PIT</td>\n      <td>...</td>\n      <td>1.146076</td>\n      <td>0.546433</td>\n      <td>0.453567</td>\n      <td>0.551088</td>\n      <td>0.448912</td>\n      <td>0.546433</td>\n      <td>0.004655</td>\n      <td>-0.032244</td>\n      <td>0.036899</td>\n      <td>2009</td>\n    </tr>\n    <tr>\n      <th>2</th>\n      <td>2009-09-10</td>\n      <td>2009091000</td>\n      <td>1</td>\n      <td>1</td>\n      <td>2.0</td>\n      <td>14:16</td>\n      <td>15</td>\n      <td>3556.0</td>\n      <td>37.0</td>\n      <td>PIT</td>\n      <td>...</td>\n      <td>NaN</td>\n      <td>0.551088</td>\n      <td>0.448912</td>\n      <td>0.510793</td>\n      <td>0.489207</td>\n      <td>0.551088</td>\n      <td>-0.040295</td>\n      <td>NaN</td>\n      <td>NaN</td>\n      <td>2009</td>\n    </tr>\n    <tr>\n      <th>3</th>\n      <td>2009-09-10</td>\n      <td>2009091000</td>\n      <td>1</td>\n      <td>1</td>\n      <td>3.0</td>\n      <td>13:35</td>\n      <td>14</td>\n      <td>3515.0</td>\n      <td>41.0</td>\n      <td>PIT</td>\n      <td>...</td>\n      <td>-5.031425</td>\n      <td>0.510793</td>\n      <td>0.489207</td>\n      <td>0.461217</td>\n      <td>0.538783</td>\n      <td>0.510793</td>\n      <td>-0.049576</td>\n      <td>0.106663</td>\n      <td>-0.156239</td>\n      <td>2009</td>\n    </tr>\n    <tr>\n      <th>4</th>\n      <td>2009-09-10</td>\n      <td>2009091000</td>\n      <td>1</td>\n      <td>1</td>\n      <td>4.0</td>\n      <td>13:27</td>\n      <td>14</td>\n      <td>3507.0</td>\n      <td>8.0</td>\n      <td>PIT</td>\n      <td>...</td>\n      <td>NaN</td>\n      <td>0.461217</td>\n      <td>0.538783</td>\n      <td>0.558929</td>\n      <td>0.441071</td>\n      <td>0.461217</td>\n      <td>0.097712</td>\n      <td>NaN</td>\n      <td>NaN</td>\n      <td>2009</td>\n    </tr>\n    <tr>\n      <th>...</th>\n      <td>...</td>\n      <td>...</td>\n      <td>...</td>\n      <td>...</td>\n      <td>...</td>\n      <td>...</td>\n      <td>...</td>\n      <td>...</td>\n      <td>...</td>\n      <td>...</td>\n      <td>...</td>\n      <td>...</td>\n      <td>...</td>\n      <td>...</td>\n      <td>...</td>\n      <td>...</td>\n      <td>...</td>\n      <td>...</td>\n      <td>...</td>\n      <td>...</td>\n      <td>...</td>\n    </tr>\n    <tr>\n      <th>362442</th>\n      <td>2017-01-01</td>\n      <td>2017010102</td>\n      <td>20</td>\n      <td>4</td>\n      <td>1.0</td>\n      <td>00:22</td>\n      <td>1</td>\n      <td>22.0</td>\n      <td>6.0</td>\n      <td>GB</td>\n      <td>...</td>\n      <td>0.000000</td>\n      <td>0.051901</td>\n      <td>0.948099</td>\n      <td>0.093435</td>\n      <td>0.906565</td>\n      <td>0.051901</td>\n      <td>0.041534</td>\n      <td>0.041534</td>\n      <td>0.000000</td>\n      <td>2016</td>\n    </tr>\n    <tr>\n      <th>362443</th>\n      <td>2017-01-01</td>\n      <td>2017010102</td>\n      <td>20</td>\n      <td>4</td>\n      <td>NaN</td>\n      <td>00:13</td>\n      <td>1</td>\n      <td>13.0</td>\n      <td>9.0</td>\n      <td>GB</td>\n      <td>...</td>\n      <td>NaN</td>\n      <td>0.093435</td>\n      <td>0.906565</td>\n      <td>0.034069</td>\n      <td>0.965931</td>\n      <td>0.093435</td>\n      <td>-0.059366</td>\n      <td>NaN</td>\n      <td>NaN</td>\n      <td>2016</td>\n    </tr>\n    <tr>\n      <th>362444</th>\n      <td>2017-01-01</td>\n      <td>2017010102</td>\n      <td>21</td>\n      <td>4</td>\n      <td>NaN</td>\n      <td>00:13</td>\n      <td>1</td>\n      <td>13.0</td>\n      <td>0.0</td>\n      <td>DET</td>\n      <td>...</td>\n      <td>NaN</td>\n      <td>0.034069</td>\n      <td>0.965931</td>\n      <td>0.035708</td>\n      <td>0.964292</td>\n      <td>0.965931</td>\n      <td>-0.001639</td>\n      <td>NaN</td>\n      <td>NaN</td>\n      <td>2016</td>\n    </tr>\n    <tr>\n      <th>362445</th>\n      <td>2017-01-01</td>\n      <td>2017010102</td>\n      <td>21</td>\n      <td>4</td>\n      <td>1.0</td>\n      <td>00:12</td>\n      <td>1</td>\n      <td>12.0</td>\n      <td>1.0</td>\n      <td>DET</td>\n      <td>...</td>\n      <td>NaN</td>\n      <td>0.035708</td>\n      <td>0.964292</td>\n      <td>0.000000</td>\n      <td>1.000000</td>\n      <td>0.964292</td>\n      <td>0.035708</td>\n      <td>NaN</td>\n      <td>NaN</td>\n      <td>2016</td>\n    </tr>\n    <tr>\n      <th>362446</th>\n      <td>2017-01-01</td>\n      <td>2017010102</td>\n      <td>21</td>\n      <td>4</td>\n      <td>NaN</td>\n      <td>00:00</td>\n      <td>0</td>\n      <td>0.0</td>\n      <td>12.0</td>\n      <td>DET</td>\n      <td>...</td>\n      <td>NaN</td>\n      <td>0.000000</td>\n      <td>1.000000</td>\n      <td>0.000000</td>\n      <td>1.000000</td>\n      <td>0.934245</td>\n      <td>0.000000</td>\n      <td>NaN</td>\n      <td>NaN</td>\n      <td>2016</td>\n    </tr>\n  </tbody>\n</table>\n<p>362447 rows × 102 columns</p>\n</div>"
     },
     "execution_count": 4,
     "metadata": {},
     "output_type": "execute_result"
    }
   ],
   "source": [
    "# 5. Знайти дані, які не були внесені та дані, яких не існує\n",
    "\n",
    "df[df.isnull().any(axis=1)]"
   ],
   "metadata": {
    "collapsed": false,
    "ExecuteTime": {
     "end_time": "2024-03-19T19:03:53.250737Z",
     "start_time": "2024-03-19T19:03:52.477883Z"
    }
   },
   "id": "8bbfb83d4d74f8cf",
   "execution_count": 4
  },
  {
   "cell_type": "code",
   "outputs": [
    {
     "data": {
      "text/plain": "Empty DataFrame\nColumns: [Date, GameID, Drive, qtr, down, time, TimeUnder, TimeSecs, PlayTimeDiff, SideofField, yrdln, yrdline100, ydstogo, ydsnet, GoalToGo, FirstDown, posteam, DefensiveTeam, desc, PlayAttempted, Yards.Gained, sp, Touchdown, ExPointResult, TwoPointConv, DefTwoPoint, Safety, Onsidekick, PuntResult, PlayType, Passer, Passer_ID, PassAttempt, PassOutcome, PassLength, AirYards, YardsAfterCatch, QBHit, PassLocation, InterceptionThrown, Interceptor, Rusher, Rusher_ID, RushAttempt, RunLocation, RunGap, Receiver, Receiver_ID, Reception, ReturnResult, Returner, BlockingPlayer, Tackler1, Tackler2, FieldGoalResult, FieldGoalDistance, Fumble, RecFumbTeam, RecFumbPlayer, Sack, Challenge.Replay, ChalReplayResult, Accepted.Penalty, PenalizedTeam, PenaltyType, PenalizedPlayer, Penalty.Yards, PosTeamScore, DefTeamScore, ScoreDiff, AbsScoreDiff, HomeTeam, AwayTeam, Timeout_Indicator, Timeout_Team, posteam_timeouts_pre, HomeTimeouts_Remaining_Pre, AwayTimeouts_Remaining_Pre, HomeTimeouts_Remaining_Post, AwayTimeouts_Remaining_Post, No_Score_Prob, Opp_Field_Goal_Prob, Opp_Safety_Prob, Opp_Touchdown_Prob, Field_Goal_Prob, Safety_Prob, Touchdown_Prob, ExPoint_Prob, TwoPoint_Prob, ExpPts, EPA, airEPA, yacEPA, Home_WP_pre, Away_WP_pre, Home_WP_post, Away_WP_post, Win_Prob, WPA, airWPA, ...]\nIndex: []\n\n[0 rows x 102 columns]",
      "text/html": "<div>\n<style scoped>\n    .dataframe tbody tr th:only-of-type {\n        vertical-align: middle;\n    }\n\n    .dataframe tbody tr th {\n        vertical-align: top;\n    }\n\n    .dataframe thead th {\n        text-align: right;\n    }\n</style>\n<table border=\"1\" class=\"dataframe\">\n  <thead>\n    <tr style=\"text-align: right;\">\n      <th></th>\n      <th>Date</th>\n      <th>GameID</th>\n      <th>Drive</th>\n      <th>qtr</th>\n      <th>down</th>\n      <th>time</th>\n      <th>TimeUnder</th>\n      <th>TimeSecs</th>\n      <th>PlayTimeDiff</th>\n      <th>SideofField</th>\n      <th>...</th>\n      <th>yacEPA</th>\n      <th>Home_WP_pre</th>\n      <th>Away_WP_pre</th>\n      <th>Home_WP_post</th>\n      <th>Away_WP_post</th>\n      <th>Win_Prob</th>\n      <th>WPA</th>\n      <th>airWPA</th>\n      <th>yacWPA</th>\n      <th>Season</th>\n    </tr>\n  </thead>\n  <tbody>\n  </tbody>\n</table>\n<p>0 rows × 102 columns</p>\n</div>"
     },
     "execution_count": 5,
     "metadata": {},
     "output_type": "execute_result"
    }
   ],
   "source": [
    "# 6. Видалити з даних всі рядки з пропущеними даними\n",
    "\n",
    "df_without_na = df.dropna()\n",
    "df_without_na"
   ],
   "metadata": {
    "collapsed": false,
    "ExecuteTime": {
     "end_time": "2024-03-19T19:03:53.684112Z",
     "start_time": "2024-03-19T19:03:53.245888Z"
    }
   },
   "id": "54c4b9857f7b6e34",
   "execution_count": 5
  },
  {
   "cell_type": "code",
   "outputs": [
    {
     "data": {
      "text/plain": "['Home_WP_pre',\n 'Tackler1',\n 'ScoreDiff',\n 'airEPA',\n 'No_Score_Prob',\n 'RunGap',\n 'down',\n 'PassLocation',\n 'time',\n 'PosTeamScore',\n 'DefTwoPoint',\n 'FirstDown',\n 'FieldGoalResult',\n 'desc',\n 'RecFumbTeam',\n 'WPA',\n 'Safety_Prob',\n 'posteam',\n 'RecFumbPlayer',\n 'Tackler2',\n 'PenalizedTeam',\n 'RunLocation',\n 'Opp_Touchdown_Prob',\n 'EPA',\n 'ExpPts',\n 'PassLength',\n 'Away_WP_post',\n 'AbsScoreDiff',\n 'SideofField',\n 'Rusher',\n 'Home_WP_post',\n 'ExPointResult',\n 'BlockingPlayer',\n 'Away_WP_pre',\n 'GoalToGo',\n 'Opp_Safety_Prob',\n 'PenaltyType',\n 'Touchdown_Prob',\n 'Passer',\n 'yrdline100',\n 'Receiver',\n 'yacEPA',\n 'Rusher_ID',\n 'DefensiveTeam',\n 'Receiver_ID',\n 'TimeSecs',\n 'Returner',\n 'Interceptor',\n 'yrdln',\n 'Timeout_Team',\n 'Opp_Field_Goal_Prob',\n 'DefTeamScore',\n 'FieldGoalDistance',\n 'yacWPA',\n 'PassOutcome',\n 'ChalReplayResult',\n 'PlayTimeDiff',\n 'ReturnResult',\n 'PenalizedPlayer',\n 'Win_Prob',\n 'PuntResult',\n 'TwoPointConv',\n 'airWPA',\n 'Passer_ID',\n 'Field_Goal_Prob']"
     },
     "execution_count": 6,
     "metadata": {},
     "output_type": "execute_result"
    }
   ],
   "source": [
    "# 7. Видалити з даних всі колонки з пропущеними даними, показати імена видалених колонок\n",
    "\n",
    "dropped_columns = list(set(df.columns) - set(df.dropna(axis=1, how=\"any\", inplace=False).columns))\n",
    "dropped_columns"
   ],
   "metadata": {
    "collapsed": false,
    "ExecuteTime": {
     "end_time": "2024-03-19T19:03:54.267281Z",
     "start_time": "2024-03-19T19:03:53.677823Z"
    }
   },
   "id": "13929ff18173d32d",
   "execution_count": 6
  },
  {
   "cell_type": "code",
   "outputs": [
    {
     "data": {
      "text/plain": "              Date      GameID  Drive  qtr      down   time  TimeUnder  \\\n0       2009-09-10  2009091000      1    1  2.001226  15:00         15   \n1       2009-09-10  2009091000      1    1  1.000000  14:53         15   \n2       2009-09-10  2009091000      1    1  2.000000  14:16         15   \n3       2009-09-10  2009091000      1    1  3.000000  13:35         14   \n4       2009-09-10  2009091000      1    1  4.000000  13:27         14   \n...            ...         ...    ...  ...       ...    ...        ...   \n362442  2017-01-01  2017010102     20    4  1.000000  00:22          1   \n362443  2017-01-01  2017010102     20    4  2.001226  00:13          1   \n362444  2017-01-01  2017010102     21    4  2.001226  00:13          1   \n362445  2017-01-01  2017010102     21    4  1.000000  00:12          1   \n362446  2017-01-01  2017010102     21    4  2.001226  00:00          0   \n\n        TimeSecs  PlayTimeDiff SideofField  ...    yacEPA  Home_WP_pre  \\\n0         3600.0           0.0         TEN  ... -0.386522     0.485675   \n1         3593.0           7.0         PIT  ...  1.146076     0.546433   \n2         3556.0          37.0         PIT  ... -0.386522     0.551088   \n3         3515.0          41.0         PIT  ... -5.031425     0.510793   \n4         3507.0           8.0         PIT  ... -0.386522     0.461217   \n...          ...           ...         ...  ...       ...          ...   \n362442      22.0           6.0          GB  ...  0.000000     0.051901   \n362443      13.0           9.0          GB  ... -0.386522     0.093435   \n362444      13.0           0.0         DET  ... -0.386522     0.034069   \n362445      12.0           1.0         DET  ... -0.386522     0.035708   \n362446       0.0          12.0         DET  ... -0.386522     0.000000   \n\n        Away_WP_pre  Home_WP_post  Away_WP_post  Win_Prob       WPA    airWPA  \\\n0          0.514325      0.546433      0.453567  0.485675  0.060758  0.015209   \n1          0.453567      0.551088      0.448912  0.546433  0.004655 -0.032244   \n2          0.448912      0.510793      0.489207  0.551088 -0.040295  0.015209   \n3          0.489207      0.461217      0.538783  0.510793 -0.049576  0.106663   \n4          0.538783      0.558929      0.441071  0.461217  0.097712  0.015209   \n...             ...           ...           ...       ...       ...       ...   \n362442     0.948099      0.093435      0.906565  0.051901  0.041534  0.041534   \n362443     0.906565      0.034069      0.965931  0.093435 -0.059366  0.015209   \n362444     0.965931      0.035708      0.964292  0.965931 -0.001639  0.015209   \n362445     0.964292      0.000000      1.000000  0.964292  0.035708  0.015209   \n362446     1.000000      0.000000      1.000000  0.934245  0.000000  0.015209   \n\n          yacWPA  Season  \n0      -0.010492    2009  \n1       0.036899    2009  \n2      -0.010492    2009  \n3      -0.156239    2009  \n4      -0.010492    2009  \n...          ...     ...  \n362442  0.000000    2016  \n362443 -0.010492    2016  \n362444 -0.010492    2016  \n362445 -0.010492    2016  \n362446 -0.010492    2016  \n\n[362447 rows x 102 columns]",
      "text/html": "<div>\n<style scoped>\n    .dataframe tbody tr th:only-of-type {\n        vertical-align: middle;\n    }\n\n    .dataframe tbody tr th {\n        vertical-align: top;\n    }\n\n    .dataframe thead th {\n        text-align: right;\n    }\n</style>\n<table border=\"1\" class=\"dataframe\">\n  <thead>\n    <tr style=\"text-align: right;\">\n      <th></th>\n      <th>Date</th>\n      <th>GameID</th>\n      <th>Drive</th>\n      <th>qtr</th>\n      <th>down</th>\n      <th>time</th>\n      <th>TimeUnder</th>\n      <th>TimeSecs</th>\n      <th>PlayTimeDiff</th>\n      <th>SideofField</th>\n      <th>...</th>\n      <th>yacEPA</th>\n      <th>Home_WP_pre</th>\n      <th>Away_WP_pre</th>\n      <th>Home_WP_post</th>\n      <th>Away_WP_post</th>\n      <th>Win_Prob</th>\n      <th>WPA</th>\n      <th>airWPA</th>\n      <th>yacWPA</th>\n      <th>Season</th>\n    </tr>\n  </thead>\n  <tbody>\n    <tr>\n      <th>0</th>\n      <td>2009-09-10</td>\n      <td>2009091000</td>\n      <td>1</td>\n      <td>1</td>\n      <td>2.001226</td>\n      <td>15:00</td>\n      <td>15</td>\n      <td>3600.0</td>\n      <td>0.0</td>\n      <td>TEN</td>\n      <td>...</td>\n      <td>-0.386522</td>\n      <td>0.485675</td>\n      <td>0.514325</td>\n      <td>0.546433</td>\n      <td>0.453567</td>\n      <td>0.485675</td>\n      <td>0.060758</td>\n      <td>0.015209</td>\n      <td>-0.010492</td>\n      <td>2009</td>\n    </tr>\n    <tr>\n      <th>1</th>\n      <td>2009-09-10</td>\n      <td>2009091000</td>\n      <td>1</td>\n      <td>1</td>\n      <td>1.000000</td>\n      <td>14:53</td>\n      <td>15</td>\n      <td>3593.0</td>\n      <td>7.0</td>\n      <td>PIT</td>\n      <td>...</td>\n      <td>1.146076</td>\n      <td>0.546433</td>\n      <td>0.453567</td>\n      <td>0.551088</td>\n      <td>0.448912</td>\n      <td>0.546433</td>\n      <td>0.004655</td>\n      <td>-0.032244</td>\n      <td>0.036899</td>\n      <td>2009</td>\n    </tr>\n    <tr>\n      <th>2</th>\n      <td>2009-09-10</td>\n      <td>2009091000</td>\n      <td>1</td>\n      <td>1</td>\n      <td>2.000000</td>\n      <td>14:16</td>\n      <td>15</td>\n      <td>3556.0</td>\n      <td>37.0</td>\n      <td>PIT</td>\n      <td>...</td>\n      <td>-0.386522</td>\n      <td>0.551088</td>\n      <td>0.448912</td>\n      <td>0.510793</td>\n      <td>0.489207</td>\n      <td>0.551088</td>\n      <td>-0.040295</td>\n      <td>0.015209</td>\n      <td>-0.010492</td>\n      <td>2009</td>\n    </tr>\n    <tr>\n      <th>3</th>\n      <td>2009-09-10</td>\n      <td>2009091000</td>\n      <td>1</td>\n      <td>1</td>\n      <td>3.000000</td>\n      <td>13:35</td>\n      <td>14</td>\n      <td>3515.0</td>\n      <td>41.0</td>\n      <td>PIT</td>\n      <td>...</td>\n      <td>-5.031425</td>\n      <td>0.510793</td>\n      <td>0.489207</td>\n      <td>0.461217</td>\n      <td>0.538783</td>\n      <td>0.510793</td>\n      <td>-0.049576</td>\n      <td>0.106663</td>\n      <td>-0.156239</td>\n      <td>2009</td>\n    </tr>\n    <tr>\n      <th>4</th>\n      <td>2009-09-10</td>\n      <td>2009091000</td>\n      <td>1</td>\n      <td>1</td>\n      <td>4.000000</td>\n      <td>13:27</td>\n      <td>14</td>\n      <td>3507.0</td>\n      <td>8.0</td>\n      <td>PIT</td>\n      <td>...</td>\n      <td>-0.386522</td>\n      <td>0.461217</td>\n      <td>0.538783</td>\n      <td>0.558929</td>\n      <td>0.441071</td>\n      <td>0.461217</td>\n      <td>0.097712</td>\n      <td>0.015209</td>\n      <td>-0.010492</td>\n      <td>2009</td>\n    </tr>\n    <tr>\n      <th>...</th>\n      <td>...</td>\n      <td>...</td>\n      <td>...</td>\n      <td>...</td>\n      <td>...</td>\n      <td>...</td>\n      <td>...</td>\n      <td>...</td>\n      <td>...</td>\n      <td>...</td>\n      <td>...</td>\n      <td>...</td>\n      <td>...</td>\n      <td>...</td>\n      <td>...</td>\n      <td>...</td>\n      <td>...</td>\n      <td>...</td>\n      <td>...</td>\n      <td>...</td>\n      <td>...</td>\n    </tr>\n    <tr>\n      <th>362442</th>\n      <td>2017-01-01</td>\n      <td>2017010102</td>\n      <td>20</td>\n      <td>4</td>\n      <td>1.000000</td>\n      <td>00:22</td>\n      <td>1</td>\n      <td>22.0</td>\n      <td>6.0</td>\n      <td>GB</td>\n      <td>...</td>\n      <td>0.000000</td>\n      <td>0.051901</td>\n      <td>0.948099</td>\n      <td>0.093435</td>\n      <td>0.906565</td>\n      <td>0.051901</td>\n      <td>0.041534</td>\n      <td>0.041534</td>\n      <td>0.000000</td>\n      <td>2016</td>\n    </tr>\n    <tr>\n      <th>362443</th>\n      <td>2017-01-01</td>\n      <td>2017010102</td>\n      <td>20</td>\n      <td>4</td>\n      <td>2.001226</td>\n      <td>00:13</td>\n      <td>1</td>\n      <td>13.0</td>\n      <td>9.0</td>\n      <td>GB</td>\n      <td>...</td>\n      <td>-0.386522</td>\n      <td>0.093435</td>\n      <td>0.906565</td>\n      <td>0.034069</td>\n      <td>0.965931</td>\n      <td>0.093435</td>\n      <td>-0.059366</td>\n      <td>0.015209</td>\n      <td>-0.010492</td>\n      <td>2016</td>\n    </tr>\n    <tr>\n      <th>362444</th>\n      <td>2017-01-01</td>\n      <td>2017010102</td>\n      <td>21</td>\n      <td>4</td>\n      <td>2.001226</td>\n      <td>00:13</td>\n      <td>1</td>\n      <td>13.0</td>\n      <td>0.0</td>\n      <td>DET</td>\n      <td>...</td>\n      <td>-0.386522</td>\n      <td>0.034069</td>\n      <td>0.965931</td>\n      <td>0.035708</td>\n      <td>0.964292</td>\n      <td>0.965931</td>\n      <td>-0.001639</td>\n      <td>0.015209</td>\n      <td>-0.010492</td>\n      <td>2016</td>\n    </tr>\n    <tr>\n      <th>362445</th>\n      <td>2017-01-01</td>\n      <td>2017010102</td>\n      <td>21</td>\n      <td>4</td>\n      <td>1.000000</td>\n      <td>00:12</td>\n      <td>1</td>\n      <td>12.0</td>\n      <td>1.0</td>\n      <td>DET</td>\n      <td>...</td>\n      <td>-0.386522</td>\n      <td>0.035708</td>\n      <td>0.964292</td>\n      <td>0.000000</td>\n      <td>1.000000</td>\n      <td>0.964292</td>\n      <td>0.035708</td>\n      <td>0.015209</td>\n      <td>-0.010492</td>\n      <td>2016</td>\n    </tr>\n    <tr>\n      <th>362446</th>\n      <td>2017-01-01</td>\n      <td>2017010102</td>\n      <td>21</td>\n      <td>4</td>\n      <td>2.001226</td>\n      <td>00:00</td>\n      <td>0</td>\n      <td>0.0</td>\n      <td>12.0</td>\n      <td>DET</td>\n      <td>...</td>\n      <td>-0.386522</td>\n      <td>0.000000</td>\n      <td>1.000000</td>\n      <td>0.000000</td>\n      <td>1.000000</td>\n      <td>0.934245</td>\n      <td>0.000000</td>\n      <td>0.015209</td>\n      <td>-0.010492</td>\n      <td>2016</td>\n    </tr>\n  </tbody>\n</table>\n<p>362447 rows × 102 columns</p>\n</div>"
     },
     "execution_count": 7,
     "metadata": {},
     "output_type": "execute_result"
    }
   ],
   "source": [
    "# 8. Заповнити пропущені дані правдоподібними значеннями, використати різні методи\n",
    "df_copy = df.copy()\n",
    "\n",
    "for column in dropped_columns:\n",
    "    if df_copy[column].dtypes == \"object\":\n",
    "        df_copy[column].fillna(\"UNKNOWN\", inplace=True)\n",
    "    else:\n",
    "        df_copy[column].fillna(df_copy[column].mean(), inplace=True)\n",
    "\n",
    "df_copy"
   ],
   "metadata": {
    "collapsed": false,
    "ExecuteTime": {
     "end_time": "2024-03-19T19:03:55.378712Z",
     "start_time": "2024-03-19T19:03:54.259407Z"
    }
   },
   "id": "4531968fe6fb4737",
   "execution_count": 7
  },
  {
   "cell_type": "code",
   "outputs": [
    {
     "data": {
      "text/plain": "        Date      GameID  Drive  qtr  down   time  TimeUnder  TimeSecs  \\\n0 2009-09-10  2009091000      1    1   NaN  15:00         15    3600.0   \n1 2009-09-10  2009091000      1    1   1.0  14:53         15    3593.0   \n2 2009-09-10  2009091000      1    1   2.0  14:16         15    3556.0   \n3 2009-09-10  2009091000      1    1   3.0  13:35         14    3515.0   \n4 2009-09-10  2009091000      1    1   4.0  13:27         14    3507.0   \n\n   PlayTimeDiff SideofField  ...  Away_WP_post  Win_Prob       WPA    airWPA  \\\n0           0.0         TEN  ...      0.453567  0.485675  0.060758       NaN   \n1           7.0         PIT  ...      0.448912  0.546433  0.004655 -0.032244   \n2          37.0         PIT  ...      0.489207  0.551088 -0.040295       NaN   \n3          41.0         PIT  ...      0.538783  0.510793 -0.049576  0.106663   \n4           8.0         PIT  ...      0.441071  0.461217  0.097712       NaN   \n\n     yacWPA  Season  year month day_of_week  day_of_month  \n0       NaN    2009  2009     9           4            10  \n1  0.036899    2009  2009     9           4            10  \n2       NaN    2009  2009     9           4            10  \n3 -0.156239    2009  2009     9           4            10  \n4       NaN    2009  2009     9           4            10  \n\n[5 rows x 106 columns]",
      "text/html": "<div>\n<style scoped>\n    .dataframe tbody tr th:only-of-type {\n        vertical-align: middle;\n    }\n\n    .dataframe tbody tr th {\n        vertical-align: top;\n    }\n\n    .dataframe thead th {\n        text-align: right;\n    }\n</style>\n<table border=\"1\" class=\"dataframe\">\n  <thead>\n    <tr style=\"text-align: right;\">\n      <th></th>\n      <th>Date</th>\n      <th>GameID</th>\n      <th>Drive</th>\n      <th>qtr</th>\n      <th>down</th>\n      <th>time</th>\n      <th>TimeUnder</th>\n      <th>TimeSecs</th>\n      <th>PlayTimeDiff</th>\n      <th>SideofField</th>\n      <th>...</th>\n      <th>Away_WP_post</th>\n      <th>Win_Prob</th>\n      <th>WPA</th>\n      <th>airWPA</th>\n      <th>yacWPA</th>\n      <th>Season</th>\n      <th>year</th>\n      <th>month</th>\n      <th>day_of_week</th>\n      <th>day_of_month</th>\n    </tr>\n  </thead>\n  <tbody>\n    <tr>\n      <th>0</th>\n      <td>2009-09-10</td>\n      <td>2009091000</td>\n      <td>1</td>\n      <td>1</td>\n      <td>NaN</td>\n      <td>15:00</td>\n      <td>15</td>\n      <td>3600.0</td>\n      <td>0.0</td>\n      <td>TEN</td>\n      <td>...</td>\n      <td>0.453567</td>\n      <td>0.485675</td>\n      <td>0.060758</td>\n      <td>NaN</td>\n      <td>NaN</td>\n      <td>2009</td>\n      <td>2009</td>\n      <td>9</td>\n      <td>4</td>\n      <td>10</td>\n    </tr>\n    <tr>\n      <th>1</th>\n      <td>2009-09-10</td>\n      <td>2009091000</td>\n      <td>1</td>\n      <td>1</td>\n      <td>1.0</td>\n      <td>14:53</td>\n      <td>15</td>\n      <td>3593.0</td>\n      <td>7.0</td>\n      <td>PIT</td>\n      <td>...</td>\n      <td>0.448912</td>\n      <td>0.546433</td>\n      <td>0.004655</td>\n      <td>-0.032244</td>\n      <td>0.036899</td>\n      <td>2009</td>\n      <td>2009</td>\n      <td>9</td>\n      <td>4</td>\n      <td>10</td>\n    </tr>\n    <tr>\n      <th>2</th>\n      <td>2009-09-10</td>\n      <td>2009091000</td>\n      <td>1</td>\n      <td>1</td>\n      <td>2.0</td>\n      <td>14:16</td>\n      <td>15</td>\n      <td>3556.0</td>\n      <td>37.0</td>\n      <td>PIT</td>\n      <td>...</td>\n      <td>0.489207</td>\n      <td>0.551088</td>\n      <td>-0.040295</td>\n      <td>NaN</td>\n      <td>NaN</td>\n      <td>2009</td>\n      <td>2009</td>\n      <td>9</td>\n      <td>4</td>\n      <td>10</td>\n    </tr>\n    <tr>\n      <th>3</th>\n      <td>2009-09-10</td>\n      <td>2009091000</td>\n      <td>1</td>\n      <td>1</td>\n      <td>3.0</td>\n      <td>13:35</td>\n      <td>14</td>\n      <td>3515.0</td>\n      <td>41.0</td>\n      <td>PIT</td>\n      <td>...</td>\n      <td>0.538783</td>\n      <td>0.510793</td>\n      <td>-0.049576</td>\n      <td>0.106663</td>\n      <td>-0.156239</td>\n      <td>2009</td>\n      <td>2009</td>\n      <td>9</td>\n      <td>4</td>\n      <td>10</td>\n    </tr>\n    <tr>\n      <th>4</th>\n      <td>2009-09-10</td>\n      <td>2009091000</td>\n      <td>1</td>\n      <td>1</td>\n      <td>4.0</td>\n      <td>13:27</td>\n      <td>14</td>\n      <td>3507.0</td>\n      <td>8.0</td>\n      <td>PIT</td>\n      <td>...</td>\n      <td>0.441071</td>\n      <td>0.461217</td>\n      <td>0.097712</td>\n      <td>NaN</td>\n      <td>NaN</td>\n      <td>2009</td>\n      <td>2009</td>\n      <td>9</td>\n      <td>4</td>\n      <td>10</td>\n    </tr>\n  </tbody>\n</table>\n<p>5 rows × 106 columns</p>\n</div>"
     },
     "execution_count": 8,
     "metadata": {},
     "output_type": "execute_result"
    }
   ],
   "source": [
    "# 9. Переглянути типи даних та перетворити тестові значення на дату+час, додати колонки з роком, місяцем, днем тижня, днем місяця\n",
    "\n",
    "df_copy = df.copy()\n",
    "\n",
    "df_copy[\"Date\"] = pd.to_datetime(df_copy[\"Date\"])\n",
    "df_copy[\"year\"] = df_copy[\"Date\"].dt.year\n",
    "df_copy[\"month\"] = df_copy[\"Date\"].dt.month\n",
    "df_copy[\"day_of_week\"] = df_copy[\"Date\"].dt.dayofweek + 1\n",
    "df_copy[\"day_of_month\"] = df_copy[\"Date\"].dt.day\n",
    "\n",
    "df_copy.head()"
   ],
   "metadata": {
    "collapsed": false,
    "ExecuteTime": {
     "end_time": "2024-03-19T19:03:55.716713Z",
     "start_time": "2024-03-19T19:03:55.373923Z"
    }
   },
   "id": "29022dbf9940aee9",
   "execution_count": 8
  },
  {
   "cell_type": "code",
   "outputs": [
    {
     "data": {
      "text/plain": "        GameID  Drive  qtr  down  TimeUnder  TimeSecs  PlayTimeDiff  yrdln  \\\n0          NaN    NaN  NaN   NaN        NaN       NaN           NaN    NaN   \n1          NaN    NaN  NaN   NaN        NaN       NaN           NaN    NaN   \n2          NaN    NaN  NaN   NaN        NaN       NaN           NaN    NaN   \n3          NaN    NaN  NaN   NaN        NaN       NaN           NaN    NaN   \n4          NaN    NaN  NaN   NaN        NaN       NaN           NaN    NaN   \n...        ...    ...  ...   ...        ...       ...           ...    ...   \n362442     NaN    NaN  NaN   NaN        NaN       NaN           NaN    NaN   \n362443     NaN    NaN  NaN   NaN        NaN       NaN           NaN    NaN   \n362444     NaN    NaN  NaN   NaN        NaN       NaN           NaN    NaN   \n362445     NaN    NaN  NaN   NaN        NaN       NaN           NaN    NaN   \n362446     NaN    NaN  NaN   NaN        NaN       NaN           NaN    NaN   \n\n        yrdline100  ydstogo  ...    yacEPA  Home_WP_pre  Away_WP_pre  \\\n0              NaN      NaN  ...       NaN          NaN          NaN   \n1              NaN      NaN  ...       NaN          NaN          NaN   \n2              NaN      NaN  ...       NaN          NaN          NaN   \n3              NaN      NaN  ... -5.031425          NaN          NaN   \n4              NaN      NaN  ...       NaN          NaN          NaN   \n...            ...      ...  ...       ...          ...          ...   \n362442         NaN      NaN  ...       NaN          NaN          NaN   \n362443         NaN      NaN  ...       NaN          NaN          NaN   \n362444         NaN      NaN  ...       NaN          NaN          NaN   \n362445         NaN      NaN  ...       NaN          NaN          NaN   \n362446         NaN      NaN  ...       NaN          NaN          NaN   \n\n        Home_WP_post  Away_WP_post  Win_Prob       WPA    airWPA    yacWPA  \\\n0                NaN           NaN       NaN  0.060758       NaN       NaN   \n1                NaN           NaN       NaN       NaN       NaN       NaN   \n2                NaN           NaN       NaN       NaN       NaN       NaN   \n3                NaN           NaN       NaN       NaN  0.106663 -0.156239   \n4                NaN           NaN       NaN  0.097712       NaN       NaN   \n...              ...           ...       ...       ...       ...       ...   \n362442           NaN           NaN       NaN       NaN       NaN       NaN   \n362443           NaN           NaN       NaN -0.059366       NaN       NaN   \n362444           NaN           NaN       NaN       NaN       NaN       NaN   \n362445           NaN           NaN       NaN       NaN       NaN       NaN   \n362446           NaN           NaN       NaN       NaN       NaN       NaN   \n\n        Season  \n0          NaN  \n1          NaN  \n2          NaN  \n3          NaN  \n4          NaN  \n...        ...  \n362442     NaN  \n362443     NaN  \n362444     NaN  \n362445     NaN  \n362446     NaN  \n\n[362447 rows x 64 columns]",
      "text/html": "<div>\n<style scoped>\n    .dataframe tbody tr th:only-of-type {\n        vertical-align: middle;\n    }\n\n    .dataframe tbody tr th {\n        vertical-align: top;\n    }\n\n    .dataframe thead th {\n        text-align: right;\n    }\n</style>\n<table border=\"1\" class=\"dataframe\">\n  <thead>\n    <tr style=\"text-align: right;\">\n      <th></th>\n      <th>GameID</th>\n      <th>Drive</th>\n      <th>qtr</th>\n      <th>down</th>\n      <th>TimeUnder</th>\n      <th>TimeSecs</th>\n      <th>PlayTimeDiff</th>\n      <th>yrdln</th>\n      <th>yrdline100</th>\n      <th>ydstogo</th>\n      <th>...</th>\n      <th>yacEPA</th>\n      <th>Home_WP_pre</th>\n      <th>Away_WP_pre</th>\n      <th>Home_WP_post</th>\n      <th>Away_WP_post</th>\n      <th>Win_Prob</th>\n      <th>WPA</th>\n      <th>airWPA</th>\n      <th>yacWPA</th>\n      <th>Season</th>\n    </tr>\n  </thead>\n  <tbody>\n    <tr>\n      <th>0</th>\n      <td>NaN</td>\n      <td>NaN</td>\n      <td>NaN</td>\n      <td>NaN</td>\n      <td>NaN</td>\n      <td>NaN</td>\n      <td>NaN</td>\n      <td>NaN</td>\n      <td>NaN</td>\n      <td>NaN</td>\n      <td>...</td>\n      <td>NaN</td>\n      <td>NaN</td>\n      <td>NaN</td>\n      <td>NaN</td>\n      <td>NaN</td>\n      <td>NaN</td>\n      <td>0.060758</td>\n      <td>NaN</td>\n      <td>NaN</td>\n      <td>NaN</td>\n    </tr>\n    <tr>\n      <th>1</th>\n      <td>NaN</td>\n      <td>NaN</td>\n      <td>NaN</td>\n      <td>NaN</td>\n      <td>NaN</td>\n      <td>NaN</td>\n      <td>NaN</td>\n      <td>NaN</td>\n      <td>NaN</td>\n      <td>NaN</td>\n      <td>...</td>\n      <td>NaN</td>\n      <td>NaN</td>\n      <td>NaN</td>\n      <td>NaN</td>\n      <td>NaN</td>\n      <td>NaN</td>\n      <td>NaN</td>\n      <td>NaN</td>\n      <td>NaN</td>\n      <td>NaN</td>\n    </tr>\n    <tr>\n      <th>2</th>\n      <td>NaN</td>\n      <td>NaN</td>\n      <td>NaN</td>\n      <td>NaN</td>\n      <td>NaN</td>\n      <td>NaN</td>\n      <td>NaN</td>\n      <td>NaN</td>\n      <td>NaN</td>\n      <td>NaN</td>\n      <td>...</td>\n      <td>NaN</td>\n      <td>NaN</td>\n      <td>NaN</td>\n      <td>NaN</td>\n      <td>NaN</td>\n      <td>NaN</td>\n      <td>NaN</td>\n      <td>NaN</td>\n      <td>NaN</td>\n      <td>NaN</td>\n    </tr>\n    <tr>\n      <th>3</th>\n      <td>NaN</td>\n      <td>NaN</td>\n      <td>NaN</td>\n      <td>NaN</td>\n      <td>NaN</td>\n      <td>NaN</td>\n      <td>NaN</td>\n      <td>NaN</td>\n      <td>NaN</td>\n      <td>NaN</td>\n      <td>...</td>\n      <td>-5.031425</td>\n      <td>NaN</td>\n      <td>NaN</td>\n      <td>NaN</td>\n      <td>NaN</td>\n      <td>NaN</td>\n      <td>NaN</td>\n      <td>0.106663</td>\n      <td>-0.156239</td>\n      <td>NaN</td>\n    </tr>\n    <tr>\n      <th>4</th>\n      <td>NaN</td>\n      <td>NaN</td>\n      <td>NaN</td>\n      <td>NaN</td>\n      <td>NaN</td>\n      <td>NaN</td>\n      <td>NaN</td>\n      <td>NaN</td>\n      <td>NaN</td>\n      <td>NaN</td>\n      <td>...</td>\n      <td>NaN</td>\n      <td>NaN</td>\n      <td>NaN</td>\n      <td>NaN</td>\n      <td>NaN</td>\n      <td>NaN</td>\n      <td>0.097712</td>\n      <td>NaN</td>\n      <td>NaN</td>\n      <td>NaN</td>\n    </tr>\n    <tr>\n      <th>...</th>\n      <td>...</td>\n      <td>...</td>\n      <td>...</td>\n      <td>...</td>\n      <td>...</td>\n      <td>...</td>\n      <td>...</td>\n      <td>...</td>\n      <td>...</td>\n      <td>...</td>\n      <td>...</td>\n      <td>...</td>\n      <td>...</td>\n      <td>...</td>\n      <td>...</td>\n      <td>...</td>\n      <td>...</td>\n      <td>...</td>\n      <td>...</td>\n      <td>...</td>\n      <td>...</td>\n    </tr>\n    <tr>\n      <th>362442</th>\n      <td>NaN</td>\n      <td>NaN</td>\n      <td>NaN</td>\n      <td>NaN</td>\n      <td>NaN</td>\n      <td>NaN</td>\n      <td>NaN</td>\n      <td>NaN</td>\n      <td>NaN</td>\n      <td>NaN</td>\n      <td>...</td>\n      <td>NaN</td>\n      <td>NaN</td>\n      <td>NaN</td>\n      <td>NaN</td>\n      <td>NaN</td>\n      <td>NaN</td>\n      <td>NaN</td>\n      <td>NaN</td>\n      <td>NaN</td>\n      <td>NaN</td>\n    </tr>\n    <tr>\n      <th>362443</th>\n      <td>NaN</td>\n      <td>NaN</td>\n      <td>NaN</td>\n      <td>NaN</td>\n      <td>NaN</td>\n      <td>NaN</td>\n      <td>NaN</td>\n      <td>NaN</td>\n      <td>NaN</td>\n      <td>NaN</td>\n      <td>...</td>\n      <td>NaN</td>\n      <td>NaN</td>\n      <td>NaN</td>\n      <td>NaN</td>\n      <td>NaN</td>\n      <td>NaN</td>\n      <td>-0.059366</td>\n      <td>NaN</td>\n      <td>NaN</td>\n      <td>NaN</td>\n    </tr>\n    <tr>\n      <th>362444</th>\n      <td>NaN</td>\n      <td>NaN</td>\n      <td>NaN</td>\n      <td>NaN</td>\n      <td>NaN</td>\n      <td>NaN</td>\n      <td>NaN</td>\n      <td>NaN</td>\n      <td>NaN</td>\n      <td>NaN</td>\n      <td>...</td>\n      <td>NaN</td>\n      <td>NaN</td>\n      <td>NaN</td>\n      <td>NaN</td>\n      <td>NaN</td>\n      <td>NaN</td>\n      <td>NaN</td>\n      <td>NaN</td>\n      <td>NaN</td>\n      <td>NaN</td>\n    </tr>\n    <tr>\n      <th>362445</th>\n      <td>NaN</td>\n      <td>NaN</td>\n      <td>NaN</td>\n      <td>NaN</td>\n      <td>NaN</td>\n      <td>NaN</td>\n      <td>NaN</td>\n      <td>NaN</td>\n      <td>NaN</td>\n      <td>NaN</td>\n      <td>...</td>\n      <td>NaN</td>\n      <td>NaN</td>\n      <td>NaN</td>\n      <td>NaN</td>\n      <td>NaN</td>\n      <td>NaN</td>\n      <td>NaN</td>\n      <td>NaN</td>\n      <td>NaN</td>\n      <td>NaN</td>\n    </tr>\n    <tr>\n      <th>362446</th>\n      <td>NaN</td>\n      <td>NaN</td>\n      <td>NaN</td>\n      <td>NaN</td>\n      <td>NaN</td>\n      <td>NaN</td>\n      <td>NaN</td>\n      <td>NaN</td>\n      <td>NaN</td>\n      <td>NaN</td>\n      <td>...</td>\n      <td>NaN</td>\n      <td>NaN</td>\n      <td>NaN</td>\n      <td>NaN</td>\n      <td>NaN</td>\n      <td>NaN</td>\n      <td>NaN</td>\n      <td>NaN</td>\n      <td>NaN</td>\n      <td>NaN</td>\n    </tr>\n  </tbody>\n</table>\n<p>362447 rows × 64 columns</p>\n</div>"
     },
     "execution_count": 9,
     "metadata": {},
     "output_type": "execute_result"
    }
   ],
   "source": [
    "# 10. За допомогою метода DataFrame.quantile знайти аномальні значення в колонках із числовими даними, показати відповідні рядки\n",
    "\n",
    "numeric_df = df.select_dtypes(include=\"number\")\n",
    "q25 = numeric_df.quantile(0.25)\n",
    "q75 = numeric_df.quantile(0.75)\n",
    "IQR = q75 - q25\n",
    "anomalies = numeric_df[(numeric_df < (q25 - 1.5 * IQR)) | (numeric_df > (q75 + 1.5 * IQR))]\n",
    "anomalies"
   ],
   "metadata": {
    "collapsed": false,
    "ExecuteTime": {
     "end_time": "2024-03-19T19:03:57.196810Z",
     "start_time": "2024-03-19T19:03:55.712169Z"
    }
   },
   "id": "dd88e1f44f90022b",
   "execution_count": 9
  },
  {
   "cell_type": "code",
   "outputs": [
    {
     "name": "stdout",
     "output_type": "stream",
     "text": [
      "Column 'Yards.Gained' contains non-positive values and cannot be normalized with Box-Cox method.\n",
      "Column 'Penalty.Yards' contains non-positive values and cannot be normalized with Box-Cox method.\n",
      "Column 'EPA' contains non-positive values and cannot be normalized with Box-Cox method.\n",
      "Column 'WPA' contains non-positive values and cannot be normalized with Box-Cox method.\n"
     ]
    },
    {
     "data": {
      "text/plain": "         Date      GameID  Drive  qtr  down   time  TimeUnder  TimeSecs  \\\n0  2009-09-10  2009091000      1    1   NaN  15:00         15    3600.0   \n1  2009-09-10  2009091000      1    1   1.0  14:53         15    3593.0   \n2  2009-09-10  2009091000      1    1   2.0  14:16         15    3556.0   \n3  2009-09-10  2009091000      1    1   3.0  13:35         14    3515.0   \n4  2009-09-10  2009091000      1    1   4.0  13:27         14    3507.0   \n\n   PlayTimeDiff SideofField  ...    yacEPA  Home_WP_pre  Away_WP_pre  \\\n0           0.0         TEN  ...       NaN     0.485675     0.514325   \n1           7.0         PIT  ...  1.146076     0.546433     0.453567   \n2          37.0         PIT  ...       NaN     0.551088     0.448912   \n3          41.0         PIT  ... -5.031425     0.510793     0.489207   \n4           8.0         PIT  ...       NaN     0.461217     0.538783   \n\n   Home_WP_post  Away_WP_post  Win_Prob       WPA    airWPA    yacWPA  Season  \n0      0.546433      0.453567  0.485675  0.060758       NaN       NaN    2009  \n1      0.551088      0.448912  0.546433  0.004655 -0.032244  0.036899    2009  \n2      0.510793      0.489207  0.551088 -0.040295       NaN       NaN    2009  \n3      0.461217      0.538783  0.510793 -0.049576  0.106663 -0.156239    2009  \n4      0.558929      0.441071  0.461217  0.097712       NaN       NaN    2009  \n\n[5 rows x 102 columns]",
      "text/html": "<div>\n<style scoped>\n    .dataframe tbody tr th:only-of-type {\n        vertical-align: middle;\n    }\n\n    .dataframe tbody tr th {\n        vertical-align: top;\n    }\n\n    .dataframe thead th {\n        text-align: right;\n    }\n</style>\n<table border=\"1\" class=\"dataframe\">\n  <thead>\n    <tr style=\"text-align: right;\">\n      <th></th>\n      <th>Date</th>\n      <th>GameID</th>\n      <th>Drive</th>\n      <th>qtr</th>\n      <th>down</th>\n      <th>time</th>\n      <th>TimeUnder</th>\n      <th>TimeSecs</th>\n      <th>PlayTimeDiff</th>\n      <th>SideofField</th>\n      <th>...</th>\n      <th>yacEPA</th>\n      <th>Home_WP_pre</th>\n      <th>Away_WP_pre</th>\n      <th>Home_WP_post</th>\n      <th>Away_WP_post</th>\n      <th>Win_Prob</th>\n      <th>WPA</th>\n      <th>airWPA</th>\n      <th>yacWPA</th>\n      <th>Season</th>\n    </tr>\n  </thead>\n  <tbody>\n    <tr>\n      <th>0</th>\n      <td>2009-09-10</td>\n      <td>2009091000</td>\n      <td>1</td>\n      <td>1</td>\n      <td>NaN</td>\n      <td>15:00</td>\n      <td>15</td>\n      <td>3600.0</td>\n      <td>0.0</td>\n      <td>TEN</td>\n      <td>...</td>\n      <td>NaN</td>\n      <td>0.485675</td>\n      <td>0.514325</td>\n      <td>0.546433</td>\n      <td>0.453567</td>\n      <td>0.485675</td>\n      <td>0.060758</td>\n      <td>NaN</td>\n      <td>NaN</td>\n      <td>2009</td>\n    </tr>\n    <tr>\n      <th>1</th>\n      <td>2009-09-10</td>\n      <td>2009091000</td>\n      <td>1</td>\n      <td>1</td>\n      <td>1.0</td>\n      <td>14:53</td>\n      <td>15</td>\n      <td>3593.0</td>\n      <td>7.0</td>\n      <td>PIT</td>\n      <td>...</td>\n      <td>1.146076</td>\n      <td>0.546433</td>\n      <td>0.453567</td>\n      <td>0.551088</td>\n      <td>0.448912</td>\n      <td>0.546433</td>\n      <td>0.004655</td>\n      <td>-0.032244</td>\n      <td>0.036899</td>\n      <td>2009</td>\n    </tr>\n    <tr>\n      <th>2</th>\n      <td>2009-09-10</td>\n      <td>2009091000</td>\n      <td>1</td>\n      <td>1</td>\n      <td>2.0</td>\n      <td>14:16</td>\n      <td>15</td>\n      <td>3556.0</td>\n      <td>37.0</td>\n      <td>PIT</td>\n      <td>...</td>\n      <td>NaN</td>\n      <td>0.551088</td>\n      <td>0.448912</td>\n      <td>0.510793</td>\n      <td>0.489207</td>\n      <td>0.551088</td>\n      <td>-0.040295</td>\n      <td>NaN</td>\n      <td>NaN</td>\n      <td>2009</td>\n    </tr>\n    <tr>\n      <th>3</th>\n      <td>2009-09-10</td>\n      <td>2009091000</td>\n      <td>1</td>\n      <td>1</td>\n      <td>3.0</td>\n      <td>13:35</td>\n      <td>14</td>\n      <td>3515.0</td>\n      <td>41.0</td>\n      <td>PIT</td>\n      <td>...</td>\n      <td>-5.031425</td>\n      <td>0.510793</td>\n      <td>0.489207</td>\n      <td>0.461217</td>\n      <td>0.538783</td>\n      <td>0.510793</td>\n      <td>-0.049576</td>\n      <td>0.106663</td>\n      <td>-0.156239</td>\n      <td>2009</td>\n    </tr>\n    <tr>\n      <th>4</th>\n      <td>2009-09-10</td>\n      <td>2009091000</td>\n      <td>1</td>\n      <td>1</td>\n      <td>4.0</td>\n      <td>13:27</td>\n      <td>14</td>\n      <td>3507.0</td>\n      <td>8.0</td>\n      <td>PIT</td>\n      <td>...</td>\n      <td>NaN</td>\n      <td>0.461217</td>\n      <td>0.538783</td>\n      <td>0.558929</td>\n      <td>0.441071</td>\n      <td>0.461217</td>\n      <td>0.097712</td>\n      <td>NaN</td>\n      <td>NaN</td>\n      <td>2009</td>\n    </tr>\n  </tbody>\n</table>\n<p>5 rows × 102 columns</p>\n</div>"
     },
     "execution_count": 10,
     "metadata": {},
     "output_type": "execute_result"
    }
   ],
   "source": [
    "# 12. Виконати нормалізацію даних за допомогою scipy.stats.boxcox\n",
    "from scipy.stats import boxcox\n",
    "\n",
    "df_norm = df.copy()\n",
    "\n",
    "columns_to_normalize = [\"Yards.Gained\", \"Penalty.Yards\", \"EPA\", \"WPA\"]\n",
    "for column in columns_to_normalize:\n",
    "    if (df_norm[column] > 0).all():\n",
    "        df_norm[column], _ = boxcox(df_norm[column])\n",
    "    else:\n",
    "        print(f\"Column '{column}' contains non-positive values and cannot be normalized with Box-Cox method.\")\n",
    "\n",
    "df_norm.head()"
   ],
   "metadata": {
    "collapsed": false,
    "ExecuteTime": {
     "end_time": "2024-03-19T19:03:58.136501Z",
     "start_time": "2024-03-19T19:03:57.186815Z"
    }
   },
   "id": "49cdda2e3ce2e442",
   "execution_count": 10
  },
  {
   "cell_type": "code",
   "outputs": [
    {
     "data": {
      "text/plain": "   posteam  Code\n0      PIT     0\n1      TEN     1\n2      NaN     2\n3      CLE     3\n4      MIN     4\n5       NO     5\n6      DET     6\n7      DAL     7\n8       TB     8\n9      HOU     9\n10     NYJ    10\n11     IND    11\n12     JAC    12\n13     DEN    13\n14     CIN    14\n15     CAR    15\n16     PHI    16\n17      KC    17\n18     BAL    18\n19     ATL    19\n20     MIA    20\n21     ARI    21\n22      SF    22\n23     STL    23\n24     SEA    24\n25     NYG    25\n26     WAS    26\n27      GB    27\n28     CHI    28\n29      NE    29\n30     BUF    30\n31     OAK    31\n32      SD    32\n33      LA    33\n34     JAX    34",
      "text/html": "<div>\n<style scoped>\n    .dataframe tbody tr th:only-of-type {\n        vertical-align: middle;\n    }\n\n    .dataframe tbody tr th {\n        vertical-align: top;\n    }\n\n    .dataframe thead th {\n        text-align: right;\n    }\n</style>\n<table border=\"1\" class=\"dataframe\">\n  <thead>\n    <tr style=\"text-align: right;\">\n      <th></th>\n      <th>posteam</th>\n      <th>Code</th>\n    </tr>\n  </thead>\n  <tbody>\n    <tr>\n      <th>0</th>\n      <td>PIT</td>\n      <td>0</td>\n    </tr>\n    <tr>\n      <th>1</th>\n      <td>TEN</td>\n      <td>1</td>\n    </tr>\n    <tr>\n      <th>2</th>\n      <td>NaN</td>\n      <td>2</td>\n    </tr>\n    <tr>\n      <th>3</th>\n      <td>CLE</td>\n      <td>3</td>\n    </tr>\n    <tr>\n      <th>4</th>\n      <td>MIN</td>\n      <td>4</td>\n    </tr>\n    <tr>\n      <th>5</th>\n      <td>NO</td>\n      <td>5</td>\n    </tr>\n    <tr>\n      <th>6</th>\n      <td>DET</td>\n      <td>6</td>\n    </tr>\n    <tr>\n      <th>7</th>\n      <td>DAL</td>\n      <td>7</td>\n    </tr>\n    <tr>\n      <th>8</th>\n      <td>TB</td>\n      <td>8</td>\n    </tr>\n    <tr>\n      <th>9</th>\n      <td>HOU</td>\n      <td>9</td>\n    </tr>\n    <tr>\n      <th>10</th>\n      <td>NYJ</td>\n      <td>10</td>\n    </tr>\n    <tr>\n      <th>11</th>\n      <td>IND</td>\n      <td>11</td>\n    </tr>\n    <tr>\n      <th>12</th>\n      <td>JAC</td>\n      <td>12</td>\n    </tr>\n    <tr>\n      <th>13</th>\n      <td>DEN</td>\n      <td>13</td>\n    </tr>\n    <tr>\n      <th>14</th>\n      <td>CIN</td>\n      <td>14</td>\n    </tr>\n    <tr>\n      <th>15</th>\n      <td>CAR</td>\n      <td>15</td>\n    </tr>\n    <tr>\n      <th>16</th>\n      <td>PHI</td>\n      <td>16</td>\n    </tr>\n    <tr>\n      <th>17</th>\n      <td>KC</td>\n      <td>17</td>\n    </tr>\n    <tr>\n      <th>18</th>\n      <td>BAL</td>\n      <td>18</td>\n    </tr>\n    <tr>\n      <th>19</th>\n      <td>ATL</td>\n      <td>19</td>\n    </tr>\n    <tr>\n      <th>20</th>\n      <td>MIA</td>\n      <td>20</td>\n    </tr>\n    <tr>\n      <th>21</th>\n      <td>ARI</td>\n      <td>21</td>\n    </tr>\n    <tr>\n      <th>22</th>\n      <td>SF</td>\n      <td>22</td>\n    </tr>\n    <tr>\n      <th>23</th>\n      <td>STL</td>\n      <td>23</td>\n    </tr>\n    <tr>\n      <th>24</th>\n      <td>SEA</td>\n      <td>24</td>\n    </tr>\n    <tr>\n      <th>25</th>\n      <td>NYG</td>\n      <td>25</td>\n    </tr>\n    <tr>\n      <th>26</th>\n      <td>WAS</td>\n      <td>26</td>\n    </tr>\n    <tr>\n      <th>27</th>\n      <td>GB</td>\n      <td>27</td>\n    </tr>\n    <tr>\n      <th>28</th>\n      <td>CHI</td>\n      <td>28</td>\n    </tr>\n    <tr>\n      <th>29</th>\n      <td>NE</td>\n      <td>29</td>\n    </tr>\n    <tr>\n      <th>30</th>\n      <td>BUF</td>\n      <td>30</td>\n    </tr>\n    <tr>\n      <th>31</th>\n      <td>OAK</td>\n      <td>31</td>\n    </tr>\n    <tr>\n      <th>32</th>\n      <td>SD</td>\n      <td>32</td>\n    </tr>\n    <tr>\n      <th>33</th>\n      <td>LA</td>\n      <td>33</td>\n    </tr>\n    <tr>\n      <th>34</th>\n      <td>JAX</td>\n      <td>34</td>\n    </tr>\n  </tbody>\n</table>\n</div>"
     },
     "execution_count": 11,
     "metadata": {},
     "output_type": "execute_result"
    }
   ],
   "source": [
    "# 13. Показати кодову таблицю для вибраної колонки з тектовими даними\n",
    "\n",
    "pd.DataFrame({\"posteam\": df[\"posteam\"].unique(), \"Code\": range(len(df[\"posteam\"].unique()))})"
   ],
   "metadata": {
    "collapsed": false,
    "ExecuteTime": {
     "end_time": "2024-03-19T19:03:58.221368Z",
     "start_time": "2024-03-19T19:03:58.129245Z"
    }
   },
   "id": "28cdb4c76084811f",
   "execution_count": 11
  }
 ],
 "metadata": {
  "kernelspec": {
   "display_name": "Python 3",
   "language": "python",
   "name": "python3"
  },
  "language_info": {
   "codemirror_mode": {
    "name": "ipython",
    "version": 2
   },
   "file_extension": ".py",
   "mimetype": "text/x-python",
   "name": "python",
   "nbconvert_exporter": "python",
   "pygments_lexer": "ipython2",
   "version": "2.7.6"
  }
 },
 "nbformat": 4,
 "nbformat_minor": 5
}
