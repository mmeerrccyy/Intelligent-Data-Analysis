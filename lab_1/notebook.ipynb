{
 "cells": [
  {
   "cell_type": "code",
   "outputs": [],
   "source": [
    "import pandas as pd"
   ],
   "metadata": {
    "collapsed": true,
    "ExecuteTime": {
     "end_time": "2024-03-19T19:05:34.692970Z",
     "start_time": "2024-03-19T19:05:34.353915Z"
    }
   },
   "id": "initial_id",
   "execution_count": 1
  },
  {
   "cell_type": "code",
   "outputs": [
    {
     "data": {
      "text/plain": "   ResponseId     Q120                      MainBranch              Age  \\\n0           1  I agree                   None of these  18-24 years old   \n1           2  I agree  I am a developer by profession  25-34 years old   \n2           3  I agree  I am a developer by profession  45-54 years old   \n3           4  I agree  I am a developer by profession  25-34 years old   \n4           5  I agree  I am a developer by profession  25-34 years old   \n\n                                          Employment  \\\n0                                                NaN   \n1                                Employed, full-time   \n2                                Employed, full-time   \n3                                Employed, full-time   \n4  Employed, full-time;Independent contractor, fr...   \n\n                             RemoteWork  \\\n0                                   NaN   \n1                                Remote   \n2  Hybrid (some remote, some in-person)   \n3  Hybrid (some remote, some in-person)   \n4                                Remote   \n\n                                    CodingActivities  \\\n0                                                NaN   \n1  Hobby;Contribute to open-source projects;Boots...   \n2  Hobby;Professional development or self-paced l...   \n3                                              Hobby   \n4  Hobby;Contribute to open-source projects;Profe...   \n\n                                        EdLevel  \\\n0                                           NaN   \n1  Bachelor’s degree (B.A., B.S., B.Eng., etc.)   \n2  Bachelor’s degree (B.A., B.S., B.Eng., etc.)   \n3  Bachelor’s degree (B.A., B.S., B.Eng., etc.)   \n4  Bachelor’s degree (B.A., B.S., B.Eng., etc.)   \n\n                                           LearnCode  \\\n0                                                NaN   \n1  Books / Physical media;Colleague;Friend or fam...   \n2  Books / Physical media;Colleague;On the job tr...   \n3  Colleague;Friend or family member;Other online...   \n4  Books / Physical media;Online Courses or Certi...   \n\n                                     LearnCodeOnline  ...        Frequency_1  \\\n0                                                NaN  ...                NaN   \n1  Formal documentation provided by the owner of ...  ...   1-2 times a week   \n2  Formal documentation provided by the owner of ...  ...  6-10 times a week   \n3  Formal documentation provided by the owner of ...  ...   1-2 times a week   \n4  Formal documentation provided by the owner of ...  ...   1-2 times a week   \n\n         Frequency_2       Frequency_3         TimeSearching  \\\n0                NaN               NaN                   NaN   \n1   10+ times a week             Never   15-30 minutes a day   \n2  6-10 times a week  3-5 times a week   30-60 minutes a day   \n3   10+ times a week  1-2 times a week   15-30 minutes a day   \n4   1-2 times a week  3-5 times a week  60-120 minutes a day   \n\n         TimeAnswering                                   ProfessionalTech  \\\n0                  NaN                                                NaN   \n1  15-30 minutes a day  DevOps function;Microservices;Automated testin...   \n2  30-60 minutes a day  DevOps function;Microservices;Automated testin...   \n3  30-60 minutes a day  Automated testing;Continuous integration (CI) ...   \n4  30-60 minutes a day  Microservices;Automated testing;Observability ...   \n\n                                            Industry           SurveyLength  \\\n0                                                NaN                    NaN   \n1  Information Services, IT, Software Development...  Appropriate in length   \n2  Information Services, IT, Software Development...  Appropriate in length   \n3                                                NaN  Appropriate in length   \n4                                              Other  Appropriate in length   \n\n                   SurveyEase ConvertedCompYearly  \n0                         NaN                 NaN  \n1                        Easy            285000.0  \n2                        Easy            250000.0  \n3                        Easy            156000.0  \n4  Neither easy nor difficult             23456.0  \n\n[5 rows x 84 columns]",
      "text/html": "<div>\n<style scoped>\n    .dataframe tbody tr th:only-of-type {\n        vertical-align: middle;\n    }\n\n    .dataframe tbody tr th {\n        vertical-align: top;\n    }\n\n    .dataframe thead th {\n        text-align: right;\n    }\n</style>\n<table border=\"1\" class=\"dataframe\">\n  <thead>\n    <tr style=\"text-align: right;\">\n      <th></th>\n      <th>ResponseId</th>\n      <th>Q120</th>\n      <th>MainBranch</th>\n      <th>Age</th>\n      <th>Employment</th>\n      <th>RemoteWork</th>\n      <th>CodingActivities</th>\n      <th>EdLevel</th>\n      <th>LearnCode</th>\n      <th>LearnCodeOnline</th>\n      <th>...</th>\n      <th>Frequency_1</th>\n      <th>Frequency_2</th>\n      <th>Frequency_3</th>\n      <th>TimeSearching</th>\n      <th>TimeAnswering</th>\n      <th>ProfessionalTech</th>\n      <th>Industry</th>\n      <th>SurveyLength</th>\n      <th>SurveyEase</th>\n      <th>ConvertedCompYearly</th>\n    </tr>\n  </thead>\n  <tbody>\n    <tr>\n      <th>0</th>\n      <td>1</td>\n      <td>I agree</td>\n      <td>None of these</td>\n      <td>18-24 years old</td>\n      <td>NaN</td>\n      <td>NaN</td>\n      <td>NaN</td>\n      <td>NaN</td>\n      <td>NaN</td>\n      <td>NaN</td>\n      <td>...</td>\n      <td>NaN</td>\n      <td>NaN</td>\n      <td>NaN</td>\n      <td>NaN</td>\n      <td>NaN</td>\n      <td>NaN</td>\n      <td>NaN</td>\n      <td>NaN</td>\n      <td>NaN</td>\n      <td>NaN</td>\n    </tr>\n    <tr>\n      <th>1</th>\n      <td>2</td>\n      <td>I agree</td>\n      <td>I am a developer by profession</td>\n      <td>25-34 years old</td>\n      <td>Employed, full-time</td>\n      <td>Remote</td>\n      <td>Hobby;Contribute to open-source projects;Boots...</td>\n      <td>Bachelor’s degree (B.A., B.S., B.Eng., etc.)</td>\n      <td>Books / Physical media;Colleague;Friend or fam...</td>\n      <td>Formal documentation provided by the owner of ...</td>\n      <td>...</td>\n      <td>1-2 times a week</td>\n      <td>10+ times a week</td>\n      <td>Never</td>\n      <td>15-30 minutes a day</td>\n      <td>15-30 minutes a day</td>\n      <td>DevOps function;Microservices;Automated testin...</td>\n      <td>Information Services, IT, Software Development...</td>\n      <td>Appropriate in length</td>\n      <td>Easy</td>\n      <td>285000.0</td>\n    </tr>\n    <tr>\n      <th>2</th>\n      <td>3</td>\n      <td>I agree</td>\n      <td>I am a developer by profession</td>\n      <td>45-54 years old</td>\n      <td>Employed, full-time</td>\n      <td>Hybrid (some remote, some in-person)</td>\n      <td>Hobby;Professional development or self-paced l...</td>\n      <td>Bachelor’s degree (B.A., B.S., B.Eng., etc.)</td>\n      <td>Books / Physical media;Colleague;On the job tr...</td>\n      <td>Formal documentation provided by the owner of ...</td>\n      <td>...</td>\n      <td>6-10 times a week</td>\n      <td>6-10 times a week</td>\n      <td>3-5 times a week</td>\n      <td>30-60 minutes a day</td>\n      <td>30-60 minutes a day</td>\n      <td>DevOps function;Microservices;Automated testin...</td>\n      <td>Information Services, IT, Software Development...</td>\n      <td>Appropriate in length</td>\n      <td>Easy</td>\n      <td>250000.0</td>\n    </tr>\n    <tr>\n      <th>3</th>\n      <td>4</td>\n      <td>I agree</td>\n      <td>I am a developer by profession</td>\n      <td>25-34 years old</td>\n      <td>Employed, full-time</td>\n      <td>Hybrid (some remote, some in-person)</td>\n      <td>Hobby</td>\n      <td>Bachelor’s degree (B.A., B.S., B.Eng., etc.)</td>\n      <td>Colleague;Friend or family member;Other online...</td>\n      <td>Formal documentation provided by the owner of ...</td>\n      <td>...</td>\n      <td>1-2 times a week</td>\n      <td>10+ times a week</td>\n      <td>1-2 times a week</td>\n      <td>15-30 minutes a day</td>\n      <td>30-60 minutes a day</td>\n      <td>Automated testing;Continuous integration (CI) ...</td>\n      <td>NaN</td>\n      <td>Appropriate in length</td>\n      <td>Easy</td>\n      <td>156000.0</td>\n    </tr>\n    <tr>\n      <th>4</th>\n      <td>5</td>\n      <td>I agree</td>\n      <td>I am a developer by profession</td>\n      <td>25-34 years old</td>\n      <td>Employed, full-time;Independent contractor, fr...</td>\n      <td>Remote</td>\n      <td>Hobby;Contribute to open-source projects;Profe...</td>\n      <td>Bachelor’s degree (B.A., B.S., B.Eng., etc.)</td>\n      <td>Books / Physical media;Online Courses or Certi...</td>\n      <td>Formal documentation provided by the owner of ...</td>\n      <td>...</td>\n      <td>1-2 times a week</td>\n      <td>1-2 times a week</td>\n      <td>3-5 times a week</td>\n      <td>60-120 minutes a day</td>\n      <td>30-60 minutes a day</td>\n      <td>Microservices;Automated testing;Observability ...</td>\n      <td>Other</td>\n      <td>Appropriate in length</td>\n      <td>Neither easy nor difficult</td>\n      <td>23456.0</td>\n    </tr>\n  </tbody>\n</table>\n<p>5 rows × 84 columns</p>\n</div>"
     },
     "execution_count": 2,
     "metadata": {},
     "output_type": "execute_result"
    }
   ],
   "source": [
    "import os\n",
    "DATA_PATH = os.path.join(\"data\", \"survey_results_public.csv\")\n",
    "dataframe = pd.read_csv(DATA_PATH)\n",
    "dataframe.head()"
   ],
   "metadata": {
    "collapsed": false,
    "ExecuteTime": {
     "end_time": "2024-03-19T19:05:37.170535Z",
     "start_time": "2024-03-19T19:05:34.694745Z"
    }
   },
   "id": "7c94fc33e0dacbc6",
   "execution_count": 2
  },
  {
   "cell_type": "code",
   "outputs": [
    {
     "data": {
      "text/plain": "89184"
     },
     "execution_count": 3,
     "metadata": {},
     "output_type": "execute_result"
    }
   ],
   "source": [
    "# 1. Скільки респондентів пройшли опитування?\n",
    "len(dataframe)"
   ],
   "metadata": {
    "collapsed": false,
    "ExecuteTime": {
     "end_time": "2024-03-19T19:05:37.171641Z",
     "start_time": "2024-03-19T19:05:37.158414Z"
    }
   },
   "id": "cc5ff68e6e968f3f",
   "execution_count": 3
  },
  {
   "cell_type": "code",
   "outputs": [
    {
     "data": {
      "text/plain": "0"
     },
     "execution_count": 4,
     "metadata": {},
     "output_type": "execute_result"
    }
   ],
   "source": [
    "#2.\tСкільки респондентів відповіли на всі запитання?\n",
    "len(dataframe.dropna())\n",
    "\n",
    "# Тільки 3 респондента не відповіли на одне запитання\n",
    "# dataframe.dropna(thresh=len(dataframe.columns) - 1)"
   ],
   "metadata": {
    "collapsed": false,
    "ExecuteTime": {
     "end_time": "2024-03-19T19:05:37.538522Z",
     "start_time": "2024-03-19T19:05:37.168569Z"
    }
   },
   "id": "875e25ea57be97e4",
   "execution_count": 4
  },
  {
   "cell_type": "code",
   "outputs": [
    {
     "name": "stdout",
     "output_type": "stream",
     "text": [
      "Середнє значення досвіду: 11.405126322311204\n",
      "Медіана досвіду: 9.0\n",
      "Мода досвіду: [5.0]\n"
     ]
    }
   ],
   "source": [
    "#3. Які значення мір центральної тенденції для досвіду (WorkExp) респондентів?\n",
    "\n",
    "work_exp = dataframe[\"WorkExp\"]\n",
    "mean_work_exp = work_exp.mean()\n",
    "median_work_exp = work_exp.median()\n",
    "mode_work_exp = work_exp.mode()\n",
    "\n",
    "print(\"Середнє значення досвіду:\", mean_work_exp)\n",
    "print(\"Медіана досвіду:\", median_work_exp)\n",
    "print(\"Мода досвіду:\", [el for el in mode_work_exp])"
   ],
   "metadata": {
    "collapsed": false,
    "ExecuteTime": {
     "end_time": "2024-03-19T19:05:37.554269Z",
     "start_time": "2024-03-19T19:05:37.535403Z"
    }
   },
   "id": "eae5834de3d076d0",
   "execution_count": 5
  },
  {
   "cell_type": "code",
   "outputs": [
    {
     "data": {
      "text/plain": "30566"
     },
     "execution_count": 6,
     "metadata": {},
     "output_type": "execute_result"
    }
   ],
   "source": [
    "# 4. Скільки респондентів працює віддалено?\n",
    "\n",
    "len(dataframe.loc[dataframe[\"RemoteWork\"] == \"Remote\"])"
   ],
   "metadata": {
    "collapsed": false,
    "ExecuteTime": {
     "end_time": "2024-03-19T19:05:37.617241Z",
     "start_time": "2024-03-19T19:05:37.556524Z"
    }
   },
   "id": "cc9398bbb8597ef0",
   "execution_count": 6
  },
  {
   "cell_type": "code",
   "outputs": [
    {
     "data": {
      "text/plain": "43158"
     },
     "execution_count": 7,
     "metadata": {},
     "output_type": "execute_result"
    }
   ],
   "source": [
    "# 5. Який відсоток респондентів програмує на Python?\n",
    "\n",
    "len(dataframe[dataframe[\"LanguageHaveWorkedWith\"].str.contains(\"Python\", na=False)])\n"
   ],
   "metadata": {
    "collapsed": false,
    "ExecuteTime": {
     "end_time": "2024-03-19T19:05:37.728029Z",
     "start_time": "2024-03-19T19:05:37.656964Z"
    }
   },
   "id": "331fe5d2b39c1ea7",
   "execution_count": 7
  },
  {
   "cell_type": "code",
   "outputs": [
    {
     "data": {
      "text/plain": "43201"
     },
     "execution_count": 8,
     "metadata": {},
     "output_type": "execute_result"
    }
   ],
   "source": [
    "# 6. Скільки респондентів навчалося програмувати за допомогою онлайн курсів?\n",
    "\n",
    "len(dataframe[dataframe[\"LearnCode\"].str.contains(\"Online Courses\", na=False)])"
   ],
   "metadata": {
    "collapsed": false,
    "ExecuteTime": {
     "end_time": "2024-03-19T19:05:37.831621Z",
     "start_time": "2024-03-19T19:05:37.726830Z"
    }
   },
   "id": "ca1b5b3e67215094",
   "execution_count": 8
  },
  {
   "cell_type": "code",
   "outputs": [
    {
     "data": {
      "text/plain": "                                              mean   median\nCountry                                                    \nAfghanistan                             665.000000     48.0\nAlbania                               28008.600000  11844.0\nAlgeria                                8336.333333   6586.0\nAndorra                               32127.000000  32127.0\nAngola                                  662.000000    662.0\n...                                            ...      ...\nVenezuela, Bolivarian Republic of...  24973.529412  12000.0\nViet Nam                              20191.870370  13401.0\nYemen                                  8373.000000   9000.0\nZambia                                13051.000000   9687.0\nZimbabwe                               5600.000000   6000.0\n\n[173 rows x 2 columns]",
      "text/html": "<div>\n<style scoped>\n    .dataframe tbody tr th:only-of-type {\n        vertical-align: middle;\n    }\n\n    .dataframe tbody tr th {\n        vertical-align: top;\n    }\n\n    .dataframe thead th {\n        text-align: right;\n    }\n</style>\n<table border=\"1\" class=\"dataframe\">\n  <thead>\n    <tr style=\"text-align: right;\">\n      <th></th>\n      <th>mean</th>\n      <th>median</th>\n    </tr>\n    <tr>\n      <th>Country</th>\n      <th></th>\n      <th></th>\n    </tr>\n  </thead>\n  <tbody>\n    <tr>\n      <th>Afghanistan</th>\n      <td>665.000000</td>\n      <td>48.0</td>\n    </tr>\n    <tr>\n      <th>Albania</th>\n      <td>28008.600000</td>\n      <td>11844.0</td>\n    </tr>\n    <tr>\n      <th>Algeria</th>\n      <td>8336.333333</td>\n      <td>6586.0</td>\n    </tr>\n    <tr>\n      <th>Andorra</th>\n      <td>32127.000000</td>\n      <td>32127.0</td>\n    </tr>\n    <tr>\n      <th>Angola</th>\n      <td>662.000000</td>\n      <td>662.0</td>\n    </tr>\n    <tr>\n      <th>...</th>\n      <td>...</td>\n      <td>...</td>\n    </tr>\n    <tr>\n      <th>Venezuela, Bolivarian Republic of...</th>\n      <td>24973.529412</td>\n      <td>12000.0</td>\n    </tr>\n    <tr>\n      <th>Viet Nam</th>\n      <td>20191.870370</td>\n      <td>13401.0</td>\n    </tr>\n    <tr>\n      <th>Yemen</th>\n      <td>8373.000000</td>\n      <td>9000.0</td>\n    </tr>\n    <tr>\n      <th>Zambia</th>\n      <td>13051.000000</td>\n      <td>9687.0</td>\n    </tr>\n    <tr>\n      <th>Zimbabwe</th>\n      <td>5600.000000</td>\n      <td>6000.0</td>\n    </tr>\n  </tbody>\n</table>\n<p>173 rows × 2 columns</p>\n</div>"
     },
     "execution_count": 9,
     "metadata": {},
     "output_type": "execute_result"
    }
   ],
   "source": [
    "# 7. Серед респондентів що програмують на Python в групуванні по країнам, яка середня та медіанна сума компенсації (ConvertedCompYearly) в кожній країні?\n",
    "\n",
    "dataframe[dataframe[\"LanguageHaveWorkedWith\"].str.contains(\"Python\", na=False)].groupby(\"Country\")[\"ConvertedCompYearly\"].agg([\"mean\", \"median\"])"
   ],
   "metadata": {
    "collapsed": false,
    "ExecuteTime": {
     "end_time": "2024-03-19T19:05:38.063162Z",
     "start_time": "2024-03-19T19:05:37.825655Z"
    }
   },
   "id": "23c506db75d4e",
   "execution_count": 9
  },
  {
   "cell_type": "code",
   "outputs": [
    {
     "data": {
      "text/plain": "{'Bachelor’s degree (B.A., B.S., B.Eng., etc.)',\n 'Primary/elementary school',\n 'Professional degree (JD, MD, Ph.D, Ed.D, etc.)'}"
     },
     "execution_count": 10,
     "metadata": {},
     "output_type": "execute_result"
    }
   ],
   "source": [
    "# 8. Які рівні освіти мають 5 респондентів з найбільшою компенсацією?\n",
    "\n",
    "set(dataframe.sort_values(\"ConvertedCompYearly\", ascending=False).head()[\"EdLevel\"].values)"
   ],
   "metadata": {
    "collapsed": false,
    "ExecuteTime": {
     "end_time": "2024-03-19T19:05:38.093582Z",
     "start_time": "2024-03-19T19:05:37.925438Z"
    }
   },
   "id": "774798eefbb04525",
   "execution_count": 10
  },
  {
   "cell_type": "code",
   "outputs": [
    {
     "data": {
      "text/plain": "Age\n18-24 years old       61.390887\n25-34 years old       47.577225\n35-44 years old       41.442626\n45-54 years old       38.456923\n55-64 years old       36.497642\n65 years or older     30.913749\nPrefer not to say     41.202673\nUnder 18 years old    68.628876\nName: count, dtype: float64"
     },
     "execution_count": 11,
     "metadata": {},
     "output_type": "execute_result"
    }
   ],
   "source": [
    "# 9. В кожній віковій категорії, який відсоток респондентів програмує на Python?\n",
    "\n",
    "(dataframe[dataframe[\"LanguageHaveWorkedWith\"].str.contains(\"Python\", na=False)][\"Age\"].value_counts() / dataframe[\"Age\"].value_counts()) * 100"
   ],
   "metadata": {
    "collapsed": false,
    "ExecuteTime": {
     "end_time": "2024-03-19T19:05:38.258290Z",
     "start_time": "2024-03-19T19:05:38.079647Z"
    }
   },
   "id": "ff5839357ba847e3",
   "execution_count": 11
  },
  {
   "cell_type": "code",
   "outputs": [
    {
     "data": {
      "text/plain": "MainBranch\nI am a developer by profession                                                           6554\nI am not primarily a developer, but I write code sometimes as part of my work/studies     368\nName: count, dtype: int64"
     },
     "execution_count": 12,
     "metadata": {},
     "output_type": "execute_result"
    }
   ],
   "source": [
    "# 10. Серед респондентів що знаходяться в 75 перцентилі за компенсацією середнього і працюють віддалено, які індустрії є найрозповсюдженішими?\n",
    "\n",
    "compensation_75 = dataframe[\"ConvertedCompYearly\"].quantile(0.75)\n",
    "dataframe[(dataframe[\"ConvertedCompYearly\"] >= compensation_75) & (dataframe[\"RemoteWork\"] == \"Remote\")][\"MainBranch\"].value_counts()"
   ],
   "metadata": {
    "collapsed": false,
    "ExecuteTime": {
     "end_time": "2024-03-19T19:05:38.346562Z",
     "start_time": "2024-03-19T19:05:38.255342Z"
    }
   },
   "id": "8ff02f3c2a85e01e",
   "execution_count": 12
  }
 ],
 "metadata": {
  "kernelspec": {
   "display_name": "Python 3",
   "language": "python",
   "name": "python3"
  },
  "language_info": {
   "codemirror_mode": {
    "name": "ipython",
    "version": 2
   },
   "file_extension": ".py",
   "mimetype": "text/x-python",
   "name": "python",
   "nbconvert_exporter": "python",
   "pygments_lexer": "ipython2",
   "version": "2.7.6"
  }
 },
 "nbformat": 4,
 "nbformat_minor": 5
}
